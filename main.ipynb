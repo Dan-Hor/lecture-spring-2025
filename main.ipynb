{
 "cells": [
  {
   "cell_type": "markdown",
   "metadata": {},
   "source": [
    "Berechnen des Verschattungsfaktors einer PV-Freiflächenanlage für ein Jahr aufgelöst in 5 Minuten"
   ]
  },
  {
   "cell_type": "code",
   "execution_count": 1,
   "metadata": {},
   "outputs": [],
   "source": [
    "import pandas as pd\n",
    "import numpy as np\n",
    "import plotly.graph_objects as go\n",
    "import pvlib\n",
    "import pytz"
   ]
  },
  {
   "cell_type": "code",
   "execution_count": 2,
   "metadata": {},
   "outputs": [],
   "source": [
    "# Inputs:\n",
    "\n",
    "# Zeitraum\n",
    "startdatum = '2025-01-01'\n",
    "enddatum = '2025-12-31'\n",
    "\n",
    "# Geometrie der PV-Anlage\n",
    "modulneigung = 18       # Grad\n",
    "modulazimut = 213       # Grad\n",
    "hoehe_unterkante = 1    # Meter\n",
    "hoehe_oberkante = 3.25  # Meter\n",
    "reihenteilung = 4.3     # Meter\n",
    "modullaenge = 3.4       # Meter\n",
    "\n",
    "# Standort der PV-Anlage\n",
    "breitengrad = 47.99 # Grad \n",
    "laengengrad = 16.86 # Grad\n"
   ]
  },
  {
   "cell_type": "code",
   "execution_count": 3,
   "metadata": {},
   "outputs": [],
   "source": [
    "# Berechnung:\n",
    "\n",
    "# Erstellen der 5-Minuten Zeitreihe eines Jahrs\n",
    "df = pd.DataFrame(index=pd.date_range(start=startdatum, end=enddatum, freq='5min', tz='Europe/Vienna'))\n",
    "\n",
    "# Definition des Standorts\n",
    "standort = pvlib.location.Location(breitengrad, laengengrad, 'Europe/Vienna')\n",
    "\n",
    "# Berechne den Sonnenstand für jeden Zeitpunkt\n",
    "solar_position = pvlib.solarposition.get_solarposition(df.index, standort.latitude, standort.longitude, standort.altitude)\n",
    "\n",
    "# Berechne den Verschattungsfaktor für jeden Zeitpunkt\n",
    "df['verschattungsfaktor'] = pvlib.shading.shaded_fraction1d(\n",
    "    solar_zenith=solar_position['zenith'],\n",
    "    solar_azimuth=solar_position['azimuth'],\n",
    "    axis_azimuth=modulazimut-90,\n",
    "    shaded_row_rotation=modulneigung,\n",
    "    shading_row_rotation=modulneigung,\n",
    "    collector_width=modullaenge,\n",
    "    pitch=reihenteilung,\n",
    "    axis_tilt=0,\n",
    "    surface_to_axis_offset = 0,\n",
    "    cross_axis_slope=0\n",
    ")"
   ]
  }
 ],
 "metadata": {
  "kernelspec": {
   "display_name": "Python 3",
   "language": "python",
   "name": "python3"
  },
  "language_info": {
   "codemirror_mode": {
    "name": "ipython",
    "version": 3
   },
   "file_extension": ".py",
   "mimetype": "text/x-python",
   "name": "python",
   "nbconvert_exporter": "python",
   "pygments_lexer": "ipython3",
   "version": "3.12.9"
  }
 },
 "nbformat": 4,
 "nbformat_minor": 2
}
